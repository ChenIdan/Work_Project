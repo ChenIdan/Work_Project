{
 "cells": [
  {
   "cell_type": "markdown",
   "metadata": {},
   "source": [
    "# Project Progress-19.7.17\n",
    "\n",
    "We had managed to create a position dependent probability matrix, and get from it a score vector of a  DNA  sequence that is entered by the user.\n",
    "\n",
    "Now, we want to get a probability score vector to a DNA sequence entered by the user by a position independent probability matrix. \n",
    "\n",
    "The meaning of a position independent probability matrix is a matrix which it’s probability value for a certain nucleotide sequence is the general probability for seeing that sequence. Not the probability of seeing that sequence in a specific location. That means that all the matrix column will be identical. \n",
    "\n",
    "We will get the probability score vector of a DNA sequence entered by the user by multiplying the probability matrix with the position matrix, and extricate the diagonals multiplications of the product matrix and then return the vector of the diagonals multiplications.\n",
    "\n",
    "The algorithm in which we will use to create the independent probability matrix:\n",
    "\n",
    "Input: \n",
    "Mk- markov order.\n",
    "Dep_mat1- position dependent probability matrix of markov order mk. \n",
    "Dep_mat2- position dependent probability matrix of markov order (mk-1).\n",
    "\n",
    "output: \n",
    "position independant probability matrix\n",
    "\n"
   ]
  },
  {
   "cell_type": "code",
   "execution_count": null,
   "metadata": {
    "collapsed": true
   },
   "outputs": [],
   "source": [
    "# Algorithm in python pseudo code\n",
    "\n",
    "def dep_mat(mk,Dep_mat1,Dep_mat2):\n",
    "    \n",
    "\n",
    "    len_Dep_mat1=len(Dep_mat1)\n",
    "    width_Dep_mat1=width(Dep_mat1)\n",
    "    \n",
    "    len_Dep_mat2=len(Dep_mat2)\n",
    "    width_Dep_mat2=width(Dep_mat2)\n",
    "    \n",
    "    i=0\n",
    "\n",
    "    for col in Dep_mat1:\n",
    "        \n",
    "        dep_prob1[i]= sum(col[mk:])/ (width_Dep_mat1-mk)\n",
    "        \n",
    "        i++\n",
    "    \n",
    "    if(mk>0):\n",
    "        \n",
    "        for col in Dep_mat2:\n",
    "        \n",
    "            dep_prob2[i]= sum(col[(mk-1):])/ (width_Dep_mat1-(mk-1))\n",
    "        \n",
    "            i++  \n",
    "    \n",
    "  #creating independent probability matrix. now, we will create the dpendent probability matrix\n",
    "\n",
    " #important note: independent *probability* matrix. not poisition independent probability matrix\n",
    "    \n",
    "    dep_prob2= duplicate(dep_prob2,4,axis=1) #duplicate the lower markov order vector around the\n",
    "                                                # y-axis\n",
    "    \n",
    "    dep_mat=dep_prob1/dep_prob2 #divide the probabilities, and therfore creats a\n",
    "                                    #dependent probability matrix\n",
    "        \n",
    "    return dep_mat"
   ]
  },
  {
   "cell_type": "markdown",
   "metadata": {},
   "source": [
    "That we will mulitiply the probability matrix that we got in the position matrix entered by the user. And we will extract the probability score vector in the regular way. \n"
   ]
  }
 ],
 "metadata": {
  "kernelspec": {
   "display_name": "Python 2",
   "language": "python",
   "name": "python2"
  },
  "language_info": {
   "codemirror_mode": {
    "name": "ipython",
    "version": 2
   },
   "file_extension": ".py",
   "mimetype": "text/x-python",
   "name": "python",
   "nbconvert_exporter": "python",
   "pygments_lexer": "ipython2",
   "version": "2.7.13"
  }
 },
 "nbformat": 4,
 "nbformat_minor": 1
}
