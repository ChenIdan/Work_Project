{
 "cells": [
  {
   "cell_type": "markdown",
   "metadata": {},
   "source": [
    "# Project Progress - 19/05/2019"
   ]
  },
  {
   "cell_type": "raw",
   "metadata": {},
   "source": [
    "In out project, in the PL and PN  parts of the model, we needed to also consider the revese complement of every sequence we used to learn the model matrix.\n",
    "becuase we have a lot of sequences, it will be very slow to calculate the reverse complement of every sequence and then conider it as a sequence we had got. \n",
    "But we have a different approach. with this approach, we dont need to to a reverse complement on every sequence - actually, we only need to do one building of a matrix, and one multipication.\n",
    "\n",
    "But how we will do it? \n",
    "\n",
    "lets take a sequence matrix. In the end, we want to get the sequence matrix of the matching reverse complement sequence. \n",
    "so first, we want creat a permutation matrix, and multiply it by the sequence matrix. \n",
    "\n",
    "How the permutation matrix will look like? lets think about a simple case, with markov order 0. \n",
    "\n",
    "\n"
   ]
  }
 ],
 "metadata": {
  "kernelspec": {
   "display_name": "Python 2",
   "language": "python",
   "name": "python2"
  },
  "language_info": {
   "codemirror_mode": {
    "name": "ipython",
    "version": 2
   },
   "file_extension": ".py",
   "mimetype": "text/x-python",
   "name": "python",
   "nbconvert_exporter": "python",
   "pygments_lexer": "ipython2",
   "version": "2.7.15"
  }
 },
 "nbformat": 4,
 "nbformat_minor": 2
}
