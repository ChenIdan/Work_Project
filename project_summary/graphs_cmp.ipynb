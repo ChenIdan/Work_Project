{
 "cells": [
  {
   "cell_type": "markdown",
   "metadata": {},
   "source": [
    "# Comparrisions between graphs"
   ]
  },
  {
   "cell_type": "raw",
   "metadata": {},
   "source": [
    "we had problem with correlations between average nucleusome occupancy and our predictions. in order to find out where is the problem, we did some testing, using segal model matrix as our PL matrix model (location independent model).\n",
    "\n",
    "first, we wanted to find out if the calculations preformed on our model matrix are all right. so we compared between the average nucleusome occupancy, and the PL scores derived from the segal model matrix. \n"
   ]
  },
  {
   "cell_type": "code",
   "execution_count": 16,
   "metadata": {
    "scrolled": true
   },
   "outputs": [
    {
     "name": "stdout",
     "output_type": "stream",
     "text": [
      "1\n",
      "[[ 1.         -0.60272869]\n",
      " [-0.60272869  1.        ]]\n"
     ]
    }
   ],
   "source": [
    "import numpy as np\n",
    "import plotly\n",
    "import plotly.graph_objs as go\n",
    "import plotly.plotly as py\n",
    "\n",
    "def subplot_shared_xAxis(x_axis, data1, data2, file_name, plt_name1,plt_name2):\n",
    "\ttrace0 = go.Scatter(x=x_axis, y=data1,\n",
    "\t\t\t\t\t\tname=plt_name1,\n",
    "\t\t\t\t\t\tmode=\"lines+markers\")\n",
    "\t# mode can be 'markers', 'lines+markers', 'lines'\n",
    "\n",
    "\ttrace1 = go.Scatter(x=x_axis, y=data2,\n",
    "\t\t\t\t\t\tname=plt_name2,\n",
    "\t\t\t\t\t\tmode=\"lines+markers\",\n",
    "\t\t\t\t\t\tyaxis = \"y2\")\n",
    "\n",
    "\tmydata = [trace0, trace1]\n",
    "\n",
    "\tlayout = go.Layout(\n",
    "\t\tyaxis=dict(\n",
    "\t\t\tdomain=[0, 0.5]\n",
    "\t\t),\n",
    "\t\tyaxis2=dict(\n",
    "\t\t\tdomain=[0.5, 1]\n",
    "\t\t),\n",
    "\t)\n",
    "\n",
    "\n",
    "\tfig = go.Figure(data=mydata, layout=layout)\n",
    "\n",
    "\tplotly.offline.plot(fig, filename=file_name)\n",
    "    \n",
    "\n",
    "\n",
    "\n",
    "fh = open(\"/home/chenidan/nucleusome/non_pos_vecs/non_loc_vecs\")\n",
    "segal_pos_indep_probs = np.load(\"/home/chenidan/nucleusome/segal_results/pos_indep_probs.npy\")\n",
    "counter = 0\n",
    "line_num =1\n",
    "\n",
    "for line in fh:\n",
    "\tif counter == line_num:\n",
    "\t\tvec = ((line.split('::'))[0].split(';'))\n",
    "\t\tloc_str = ((line.split('::'))[1].split(':'))[1]\n",
    "\t\tprint ((line.split('::'))[1].split(':'))[0]\n",
    "\t\tseq_range= loc_str.split('-')\n",
    "\t\tseq_range= map(int, seq_range)\n",
    "\t\tvec = map(float, vec)\n",
    "\t\tsubplot_shared_xAxis(range(seq_range[0], seq_range[1]), segal_pos_indep_probs, vec, \"avrege_cmp.html\", \"nuc occ avg\", \"loc_indep_scores\")\n",
    "\t\tprint np.corrcoef(segal_pos_indep_probs[seq_range[0]-1:seq_range[1]],vec)\n",
    "\t\tbreak\n",
    "\tcounter= counter + 1"
   ]
  },
  {
   "cell_type": "code",
   "execution_count": null,
   "metadata": {},
   "outputs": [],
   "source": []
  },
  {
   "cell_type": "raw",
   "metadata": {},
   "source": [
    "as you can see, there is a good anti correlation. it means that the way we calculate the PL scores is probably right.\n",
    "now lets compare between those scores, and between the scores we calculate from the kaplan model matrix.\n",
    "\n",
    "we will use two types of kaplan scores - in the first, we use some way of inverse on the total count of occupancy of every possible k-mere, to creat anti correlation. in the second, we didn't use this inverse.\n",
    "\n",
    "the comparrision in the first option (the window is between 0 and 4000): \n"
   ]
  },
  {
   "cell_type": "code",
   "execution_count": 18,
   "metadata": {},
   "outputs": [
    {
     "name": "stdout",
     "output_type": "stream",
     "text": [
      "[[1.         0.75445495]\n",
      " [0.75445495 1.        ]]\n"
     ]
    }
   ],
   "source": [
    "def cmp_loc_indep(v1, v2,inv):\n",
    "\n",
    "\n",
    "\tif inv:\n",
    "\t\tkaplan_pos_indep_probs = np.load(\"/home/chenidan/nucleusome/test graphs/pos_indep_kaplan/inv/pos_indep_probs.npy\")\n",
    "\t\tdir = \"/home/chenidan/nucleusome/test graphs/pos_indep_kaplan/inv/\"\n",
    "\telse:\n",
    "\t\tkaplan_pos_indep_probs = np.load(\"/home/chenidan/nucleusome/test graphs/pos_indep_kaplan/non_inv/pos_indep_probs.npy\")\n",
    "\t\tdir = \"/home/chenidan/nucleusome/test graphs/pos_indep_kaplan/non_inv/\"\n",
    "\tsegal_pos_indep_probs = np.load(\"/home/chenidan/nucleusome/segal_results/pos_indep_probs.npy\")\n",
    "\tsubplot_shared_xAxis(range(v1,v2), kaplan_pos_indep_probs[v1:v2], segal_pos_indep_probs[v1:v2], dir+ \"kaplan_vs_segal PL scores, window\" +str([v1,v2])+\".html\", \"kaplan\",\"segal\")\n",
    "\tprint np.corrcoef(kaplan_pos_indep_probs[v1:v2],segal_pos_indep_probs[v1:v2])\n",
    "\n",
    "cmp_loc_indep(0, 4000,1)"
   ]
  },
  {
   "cell_type": "raw",
   "metadata": {},
   "source": [
    "you can see that there is a good correlation when we dont use the inverse. and when we dont use the inverse: "
   ]
  },
  {
   "cell_type": "code",
   "execution_count": 9,
   "metadata": {},
   "outputs": [
    {
     "name": "stdout",
     "output_type": "stream",
     "text": [
      "[[ 1.        -0.6792361]\n",
      " [-0.6792361  1.       ]]\n"
     ]
    }
   ],
   "source": [
    "def cmp_loc_indep(v1, v2,inv):\n",
    "\n",
    "\n",
    "\tif inv:\n",
    "\t\tkaplan_pos_indep_probs = np.load(\"/home/chenidan/nucleusome/test graphs/pos_indep_kaplan/inv/pos_indep_probs.npy\")\n",
    "\t\tdir = \"/home/chenidan/nucleusome/test graphs/pos_indep_kaplan/inv/\"\n",
    "\telse:\n",
    "\t\tkaplan_pos_indep_probs = np.load(\"/home/chenidan/nucleusome/test graphs/pos_indep_kaplan/non_inv/pos_indep_probs.npy\")\n",
    "\t\tdir = \"/home/chenidan/nucleusome/test graphs/pos_indep_kaplan/non_inv/\"\n",
    "\tsegal_pos_indep_probs = np.load(\"/home/chenidan/nucleusome/segal_results/pos_indep_probs.npy\")\n",
    "\tsubplot_shared_xAxis(range(v1,v2), kaplan_pos_indep_probs[v1:v2], segal_pos_indep_probs[v1:v2], dir+ \"kaplan_vs_segal PL scores, window\" +str([v1,v2])+\".html\", \"kaplan\",\"segal\")\n",
    "\tprint np.corrcoef(kaplan_pos_indep_probs[v1:v2],segal_pos_indep_probs[v1:v2])\n",
    "\n",
    "cmp_loc_indep(0, 4000,0)"
   ]
  },
  {
   "cell_type": "raw",
   "metadata": {},
   "source": [
    "this means that there is anti correlation when we dont use the inverse. this also means that the inverse/non inverse is meaningfull. \n",
    "we have the scores of the segal model in the first 1000 locations on chromosome 1. so, because the scores are dervide from division of the PN model scores by the PL model scores, we can calculate the PN segal model scores in the first 1000 places of chromosome 1, and compare it by the kaplan scores. \n",
    "\n"
   ]
  },
  {
   "cell_type": "code",
   "execution_count": 19,
   "metadata": {},
   "outputs": [
    {
     "name": "stdout",
     "output_type": "stream",
     "text": [
      "[[1.         0.64679389]\n",
      " [0.64679389 1.        ]]\n"
     ]
    }
   ],
   "source": [
    "import pandas as pd\n",
    "\n",
    "def cmp_loc_dep():\n",
    "\tkaplan_pos_dep_probs = np.load(\"/home/chenidan/nucleusome/test graphs/pos_dep_kaplan/pos_dep_probs.npy\")\n",
    "\tsegal_pos_indep_probs = np.load(\"/home/chenidan/nucleusome/segal_results/pos_indep_probs.npy\")\n",
    "\tdir = \"/home/chenidan/nucleusome/test graphs/pos_dep_kaplan/\"\n",
    "\n",
    "\tsegal_scores = pd.read_csv(\"/home/chenidan/nucleusome/segal_results/scores.tab\", delimiter=\"\\t\")\n",
    "\tsegal_scores = segal_scores._getitem_column(\"Raw Binding (log ratio)\")\n",
    "\n",
    "\tsegal_pos_dep_probs = segal_scores + segal_pos_indep_probs[0:len(segal_scores)]\n",
    "\tprint np.corrcoef(kaplan_pos_dep_probs[0:len(segal_scores)], segal_pos_dep_probs[0:len(segal_scores)])\n",
    "\n",
    "\tsubplot_shared_xAxis(range(0,len(segal_scores)), kaplan_pos_dep_probs[0:len(segal_scores)], segal_pos_dep_probs[0:len(segal_scores)], dir + \"kaplan_vs_segal P_N scores, window\" +str([0,len(segal_scores)])+\".html\", \"kaplan\",\"segal\")\n",
    "\n",
    "cmp_loc_dep()"
   ]
  },
  {
   "cell_type": "raw",
   "metadata": {},
   "source": [
    "we can see that there is a good correlation between the segal PN scores and the kaplan PN scores. \n",
    "now lets compare the model scores. "
   ]
  },
  {
   "cell_type": "code",
   "execution_count": 20,
   "metadata": {
    "scrolled": true
   },
   "outputs": [
    {
     "name": "stdout",
     "output_type": "stream",
     "text": [
      "[[1.         0.03067603]\n",
      " [0.03067603 1.        ]]\n",
      "[[ 1.        -0.0357242]\n",
      " [-0.0357242  1.       ]]\n"
     ]
    }
   ],
   "source": [
    "import pandas as pd\n",
    "def cmp_scores(inv):\n",
    "\tif inv:\n",
    "\t\tkaplan_pos_indep_probs = np.load(\"/home/chenidan/nucleusome/test graphs/pos_indep_kaplan/inv/pos_indep_probs.npy\")\n",
    "\telse:\n",
    "\t\tkaplan_pos_indep_probs = np.load(\"/home/chenidan/nucleusome/test graphs/pos_indep_kaplan/non_inv/pos_indep_probs.npy\")\n",
    "\tdir = \"/home/chenidan/nucleusome/test graphs/segal_results/segal_scores/\"\n",
    "\tkaplan_scores = np.load(\"/home/chenidan/nucleusome/test graphs/pos_dep_kaplan/pos_dep_probs.npy\") - kaplan_pos_indep_probs\n",
    "\tsegal_scores = pd.read_csv(\"/home/chenidan/nucleusome/segal_results/scores.tab\", delimiter=\"\\t\")\n",
    "\tsegal_scores = segal_scores._getitem_column(\"Raw Binding (log ratio)\")\n",
    "\tsubplot_shared_xAxis(range(0, len(segal_scores)), segal_scores[0:len(segal_scores)], kaplan_scores[0:len(segal_scores)], dir + \"kaplan_vs_segal_scores\"+\".html\",\n",
    "\t\t\t\t\t\t \"segal_scores\", \"kaplan_scores\")\n",
    "\n",
    "\tprint np.corrcoef(segal_scores[0:len(segal_scores)], kaplan_scores[0:len(segal_scores)])\n",
    "    \n",
    "    \n",
    "cmp_scores(0)\n",
    "cmp_scores(1)"
   ]
  }
 ],
 "metadata": {
  "celltoolbar": "Attachments",
  "kernelspec": {
   "display_name": "Python 2",
   "language": "python",
   "name": "python2"
  },
  "language_info": {
   "codemirror_mode": {
    "name": "ipython",
    "version": 2
   },
   "file_extension": ".py",
   "mimetype": "text/x-python",
   "name": "python",
   "nbconvert_exporter": "python",
   "pygments_lexer": "ipython2",
   "version": "2.7.15"
  }
 },
 "nbformat": 4,
 "nbformat_minor": 2
}
