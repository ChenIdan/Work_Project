{
 "cells": [
  {
   "cell_type": "markdown",
   "metadata": {},
   "source": [
    "# Project progress - 15/5/19\n",
    "\n",
    "we had a big problem with the calculation of the PN (location dependent) part of the model. \n",
    "To so, it was requiered to loop on a very big fasta file, and to do calculations on every sequence in the fasta file sepratly  and it took a lot of running time.\n",
    "so we devised another method. Although technically the time complexity hasn't changed with this method, it uses matrix multipction and other numpy method instead of looping, and so it reduced the running time. \n",
    "\n",
    "The method:\n",
    "1. we will loop on the fasta file, but in every iteration, we will read a lot of lines, 100000, for example, into a numpy array. This way we will reduce significantly the number of iteration in the loop.\n",
    "2. we will filter the lines containing only sequence from this array, and we will get matrix filled only with sequence strings.\n",
    "\n",
    "\n",
    "Now, what we can do with this matrix? how we will get the sequence matrix from every line? \n",
    "In previous method, we created a sequence matrix from every sequence, and summed them togther. It also required a lot of runing time. \n",
    "In our current method, we dont need to work on every sequence seperately! \n",
    "In the previous method, to devise a sequence matrix for every sequence, we looped on the sequence, took every i'th k-mer, converted it to its base-4 represntation, lets call it m, and then initinialized it the [i,m] cell in the sequence matrix with 1. \n",
    "for example: "
   ]
  },
  {
   "cell_type": "code",
   "execution_count": 20,
   "metadata": {},
   "outputs": [
    {
     "name": "stdout",
     "output_type": "stream",
     "text": [
      "number representing k-mers:\n",
      "\n",
      "1\n",
      "7\n",
      "14\n",
      "[[0. 1. 0. 0. 0. 0. 0. 0. 0. 0. 0. 0. 0. 0. 0. 0.]\n",
      " [0. 0. 0. 0. 0. 0. 0. 1. 0. 0. 0. 0. 0. 0. 0. 0.]\n",
      " [0. 0. 0. 0. 0. 0. 0. 0. 0. 0. 0. 0. 0. 0. 1. 0.]]\n"
     ]
    }
   ],
   "source": [
    "import numpy as np\n",
    "import string\n",
    "translation = string.maketrans(\"ACGT\", \"0123\")\n",
    "\n",
    "seq = \"ACTG\"\n",
    "seq = string.translate(seq,translation)\n",
    "markov_order = 1\n",
    "\n",
    "\n",
    "\n",
    "seq_mat = np.zeros(((len(seq) - markov_order) , np.power(4, markov_order+1)))\n",
    "\n",
    "print \"number representing k-mers:\\n\"\n",
    "for i in range(0, len(seq)-markov_order):\n",
    "    current_num = 0\n",
    "    for j in range(0, markov_order+1):\n",
    "        current_num = current_num + np.power(4,markov_order -j)*int(seq[i+j])\n",
    "    print current_num \n",
    "    seq_mat[i, current_num] = 1\n",
    "\n",
    "print seq_mat"
   ]
  },
  {
   "cell_type": "raw",
   "metadata": {},
   "source": [
    "but a close exminiation will show us that we can calculate this matrix in another way.\n",
    "first, we can translate the sequence into an array of numbers. \n",
    "\n",
    "second, we will take a matrix has 4^i on the i'th diagonal, and 0<=i<=markov_order"
   ]
  },
  {
   "cell_type": "code",
   "execution_count": 19,
   "metadata": {},
   "outputs": [
    {
     "name": "stdout",
     "output_type": "stream",
     "text": [
      "[[4. 0. 0.]\n",
      " [1. 4. 0.]\n",
      " [0. 1. 4.]\n",
      " [0. 0. 1.]]\n"
     ]
    }
   ],
   "source": [
    "seq_len = len(seq)\n",
    "summing_matrix = np.zeros((seq_len, seq_len - markov_order))\n",
    "\n",
    "\n",
    "for i in range(0,markov_order+1):\n",
    "    np.fill_diagonal(summing_matrix[::][i:], np.power(4,markov_order- i))\n",
    "\n",
    "print summing_matrix"
   ]
  },
  {
   "cell_type": "raw",
   "metadata": {},
   "source": [
    "Now you can maybe guess - we can multiply this matrix and the vector, and get all the k-mers in a vector"
   ]
  },
  {
   "cell_type": "code",
   "execution_count": 18,
   "metadata": {},
   "outputs": [
    {
     "name": "stdout",
     "output_type": "stream",
     "text": [
      "[ 1.  7. 14.]\n"
     ]
    }
   ],
   "source": [
    "seq = string.translate(seq,translation)\n",
    "a =  np.array(map(int, [char for char in seq]))  \n",
    "k_mers = np.matmul(a ,summing_matrix )\n",
    "print k_mers"
   ]
  },
  {
   "cell_type": "raw",
   "metadata": {},
   "source": [
    "the real difference is that we can calculate the kmers in base 4 representation on a couple of sequence by one matrix multipication.\n",
    "lets see it: we will take 3 squences, "
   ]
  },
  {
   "cell_type": "code",
   "execution_count": 17,
   "metadata": {},
   "outputs": [
    {
     "name": "stdout",
     "output_type": "stream",
     "text": [
      "[[0 1 2 3]\n",
      " [0 0 1 2]\n",
      " [0 1 2 0]\n",
      " [1 2 3 0]]\n"
     ]
    }
   ],
   "source": [
    "seq1 = \"ACGT\"\n",
    "seq2 = \"AACG\"\n",
    "seq3= \"ACGA\"\n",
    "seq4 = \"CGTA\"\n",
    "seq_list = [seq1, seq2,seq3,seq4]\n",
    "def to_array(seq):\n",
    "    seq = string.translate(seq,translation)\n",
    "    a =  np.array(map(int, [char for char in seq]))  \n",
    "    \n",
    "    return a\n",
    "seqs_array = map(to_array,seq_list)\n",
    "print np.array(seqs_array)"
   ]
  },
  {
   "cell_type": "raw",
   "metadata": {},
   "source": [
    "We got those 4 sequences in an array. So lets multiply this array be the summing matrix. we will get the kmers in base 4 representation."
   ]
  },
  {
   "cell_type": "code",
   "execution_count": 16,
   "metadata": {},
   "outputs": [
    {
     "name": "stdout",
     "output_type": "stream",
     "text": [
      "[[ 1.  6. 11.]\n",
      " [ 0.  1.  6.]\n",
      " [ 1.  6.  8.]\n",
      " [ 6. 11. 12.]]\n"
     ]
    }
   ],
   "source": [
    "print np.matmul(seqs_array, summing_matrix)"
   ]
  },
  {
   "cell_type": "markdown",
   "metadata": {},
   "source": [
    "so we got all the kmers base 4 represntation for every sequence just by multiplying matrices. But how does it help us to devise the sequence matrix? you can say that we need to iterate on every row and get the squence matrix, but this wouldn't be very effiecient. \n",
    "so what will we do? \n",
    "in out method, we dont need to create any sequence matrix. consider this - every i'th coloumn in the matrix that we created in a list of all the different kmers starting from the i'th position on the sequences. so in our little example,  the first coloumn is [1,0,1,6]. Those are base 4 represenations of the kmers AC,AA,AC,CG respectivly. and you can see that those are the kmers on each sequence from the sequences that we showed. \n",
    "so in this example, we can make a one dimentional array for every coloumn, and the i'th cell will be initialized with the number of kmers the has represntation in base 4 that is i. \n",
    "\n",
    "\n"
   ]
  },
  {
   "cell_type": "code",
   "execution_count": 15,
   "metadata": {},
   "outputs": [
    {
     "name": "stdout",
     "output_type": "stream",
     "text": [
      "[[1 2 0 0 0 0 1 0 0 0 0 0 0 0 0 0]\n",
      " [0 1 0 0 0 0 2 0 0 0 0 1 0 0 0 0]\n",
      " [0 0 0 0 0 0 1 0 1 0 0 1 1 0 0 0]]\n"
     ]
    }
   ],
   "source": [
    "protein_kmers = np.matmul(seqs_array, summing_matrix)\n",
    "N = np.power(4, markov_order+1 )\n",
    "\n",
    "protein_kmers = np.transpose(protein_kmers)\n",
    "_id = protein_kmers + (N * np.arange(protein_kmers.shape[0], dtype = np.int64))[:,None]\n",
    "\n",
    "kmers_counts = np.bincount((_id.ravel()).astype(np.int64),minlength=N*protein_kmers.shape[0]).reshape(-1,N)\n",
    "\n",
    "print kmers_counts"
   ]
  },
  {
   "cell_type": "raw",
   "metadata": {},
   "source": [
    "you can see that we have a the sum of all the sequence matrices, without created each matrix seperatly! \n",
    "this is a much more effiecient way."
   ]
  }
 ],
 "metadata": {
  "kernelspec": {
   "display_name": "Python 2",
   "language": "python",
   "name": "python2"
  },
  "language_info": {
   "codemirror_mode": {
    "name": "ipython",
    "version": 2
   },
   "file_extension": ".py",
   "mimetype": "text/x-python",
   "name": "python",
   "nbconvert_exporter": "python",
   "pygments_lexer": "ipython2",
   "version": "2.7.15"
  }
 },
 "nbformat": 4,
 "nbformat_minor": 2
}
